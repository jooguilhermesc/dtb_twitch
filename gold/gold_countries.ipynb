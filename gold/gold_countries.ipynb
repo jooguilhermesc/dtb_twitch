{
 "cells": [
  {
   "cell_type": "code",
   "execution_count": 0,
   "metadata": {
    "application/vnd.databricks.v1+cell": {
     "cellMetadata": {
      "byteLimit": 2048000,
      "rowLimit": 10000
     },
     "inputWidgets": {},
     "nuid": "a9f3885c-e056-46bc-913e-ee2012d15f6c",
     "showTitle": false,
     "tableResultSettingsMap": {
      "0": {
       "dataGridStateBlob": "{\"version\":1,\"tableState\":{\"columnPinning\":{\"left\":[\"#row_number#\"],\"right\":[]},\"columnSizing\":{},\"columnVisibility\":{}},\"settings\":{\"columns\":{}},\"syncTimestamp\":1754164197793}",
       "filterBlob": null,
       "queryPlanFiltersBlob": null,
       "tableResultIndex": 0
      }
     },
     "title": ""
    }
   },
   "outputs": [],
   "source": [
    "CREATE OR REPLACE TABLE twitch.gold.country_details\n",
    "SELECT \n",
    "  i3.iso3_id as country_id,\n",
    "  n.country_name, \n",
    "  gc.continent_name,\n",
    "  p.phone_code,\n",
    "  c.currency_name\n",
    "FROM twitch.silver.names n\n",
    "LEFT JOIN twitch.silver.continent sc ON n.country_id = sc.country_id\n",
    "LEFT JOIN twitch.gold.continent gc ON sc.continent_id = gc.continent_id   \n",
    "LEFT JOIN twitch.silver.iso3 i3 ON n.country_id = i3.country_id\n",
    "LEFT JOIN twitch.silver.phone p ON n.country_id = p.country_id\n",
    "LEFT JOIN twitch.silver.currency c ON n.country_id = c.country_id\n",
    "WHERE gc.continent_id <> 'AN'"
   ]
  }
 ],
 "metadata": {
  "application/vnd.databricks.v1+notebook": {
   "computePreferences": null,
   "dashboards": [],
   "environmentMetadata": {
    "base_environment": "",
    "environment_version": "2"
   },
   "inputWidgetPreferences": null,
   "language": "sql",
   "notebookMetadata": {},
   "notebookName": "gold_countries",
   "widgets": {}
  },
  "language_info": {
   "name": "sql"
  }
 },
 "nbformat": 4,
 "nbformat_minor": 0
}
