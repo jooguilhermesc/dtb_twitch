{
 "cells": [
  {
   "cell_type": "code",
   "execution_count": 0,
   "metadata": {
    "application/vnd.databricks.v1+cell": {
     "cellMetadata": {},
     "inputWidgets": {},
     "nuid": "b43eaec0-c3dc-4cd6-a087-d2b49336e9a7",
     "showTitle": false,
     "tableResultSettingsMap": {},
     "title": ""
    }
   },
   "outputs": [],
   "source": [
    "from pyspark.sql import functions as F"
   ]
  },
  {
   "cell_type": "code",
   "execution_count": 0,
   "metadata": {
    "application/vnd.databricks.v1+cell": {
     "cellMetadata": {},
     "inputWidgets": {},
     "nuid": "e5cea0de-1824-434a-9be5-c3b9298bbaf8",
     "showTitle": false,
     "tableResultSettingsMap": {},
     "title": ""
    }
   },
   "outputs": [],
   "source": [
    "# Lê a tabela silver\n",
    "df_silver = spark.table(\"twitch.silver.continent\")\n",
    "\n",
    "# Cria o DataFrame de continentes distintos\n",
    "df_distinct = df_silver.select(\"continent_id\").distinct()\n",
    "\n",
    "# Mapeia os IDs para os nomes usando when/otherwise\n",
    "df_gold = (\n",
    "    df_distinct.withColumn(\n",
    "        \"continent_name\",\n",
    "        F.when(F.col(\"continent_id\") == \"OC\", \"Oceania\")\n",
    "         .when(F.col(\"continent_id\") == \"AS\", \"Ásia\")\n",
    "         .when(F.col(\"continent_id\") == \"AF\", \"África\")\n",
    "         .when(F.col(\"continent_id\") == \"EU\", \"Europa\")\n",
    "         .when(F.col(\"continent_id\") == \"NA\", \"América do Norte\")\n",
    "         .when(F.col(\"continent_id\") == \"SA\", \"América do Sul\")\n",
    "         .when(F.col(\"continent_id\") == \"AN\", \"Antártica\")\n",
    "         .otherwise(\"Não informado\")\n",
    "    )\n",
    ")\n",
    "\n",
    "# Salva como tabela gold sobrescrevendo\n",
    "df_gold.write.mode(\"overwrite\").saveAsTable(\"twitch.gold.continent\")"
   ]
  }
 ],
 "metadata": {
  "application/vnd.databricks.v1+notebook": {
   "computePreferences": null,
   "dashboards": [],
   "environmentMetadata": {
    "base_environment": "",
    "environment_version": "2"
   },
   "inputWidgetPreferences": null,
   "language": "python",
   "notebookMetadata": {
    "pythonIndentUnit": 4
   },
   "notebookName": "gold_ps_continents",
   "widgets": {}
  },
  "language_info": {
   "name": "python"
  }
 },
 "nbformat": 4,
 "nbformat_minor": 0
}
