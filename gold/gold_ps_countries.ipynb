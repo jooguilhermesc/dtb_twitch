{
 "cells": [
  {
   "cell_type": "code",
   "execution_count": 0,
   "metadata": {
    "application/vnd.databricks.v1+cell": {
     "cellMetadata": {},
     "inputWidgets": {},
     "nuid": "b43eaec0-c3dc-4cd6-a087-d2b49336e9a7",
     "showTitle": false,
     "tableResultSettingsMap": {},
     "title": ""
    }
   },
   "outputs": [],
   "source": [
    "from pyspark.sql import functions as F"
   ]
  },
  {
   "cell_type": "code",
   "execution_count": 0,
   "metadata": {
    "application/vnd.databricks.v1+cell": {
     "cellMetadata": {},
     "inputWidgets": {},
     "nuid": "f1c652c9-82e2-41e0-b505-bf65cffd1b7d",
     "showTitle": false,
     "tableResultSettingsMap": {},
     "title": ""
    }
   },
   "outputs": [],
   "source": [
    "# Leitura das tabelas\n",
    "df_names = spark.table(\"twitch.silver.names\")\n",
    "df_continent_silver = spark.table(\"twitch.silver.continent\")\n",
    "df_continent_gold = spark.table(\"twitch.gold.continent\")\n",
    "df_iso3 = spark.table(\"twitch.silver.iso3\")\n",
    "df_phone = spark.table(\"twitch.silver.phone\")\n",
    "df_currency = spark.table(\"twitch.silver.currency\")\n",
    "\n",
    "# Junções\n",
    "df_result = (\n",
    "    df_names\n",
    "    .join(df_continent_silver, on=\"country_id\", how=\"left\")\n",
    "    .join(df_continent_gold, on=\"continent_id\", how=\"left\")\n",
    "    .join(df_iso3, on=\"country_id\", how=\"left\")\n",
    "    .join(df_phone, on=\"country_id\", how=\"left\")\n",
    "    .join(df_currency, on=\"country_id\", how=\"left\")\n",
    "    .filter(F.col(\"continent_id\") != \"AN\")  # exclui Antártica\n",
    "    .select(\n",
    "        F.col(\"iso3_id\").alias(\"country_id\"),\n",
    "        F.col(\"country_name\"),\n",
    "        F.col(\"continent_name\"),\n",
    "        F.col(\"phone_code\"),\n",
    "        F.col(\"currency_name\")\n",
    "    )\n",
    ")\n",
    "\n",
    "# Salva como tabela\n",
    "df_result.write.mode(\"overwrite\").saveAsTable(\"twitch.gold.country_details\")"
   ]
  }
 ],
 "metadata": {
  "application/vnd.databricks.v1+notebook": {
   "computePreferences": null,
   "dashboards": [],
   "environmentMetadata": {
    "base_environment": "",
    "environment_version": "2"
   },
   "inputWidgetPreferences": null,
   "language": "python",
   "notebookMetadata": {
    "pythonIndentUnit": 4
   },
   "notebookName": "gold_ps_countries",
   "widgets": {}
  },
  "language_info": {
   "name": "python"
  }
 },
 "nbformat": 4,
 "nbformat_minor": 0
}
