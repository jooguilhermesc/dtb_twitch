{
 "cells": [
  {
   "cell_type": "code",
   "execution_count": 0,
   "metadata": {
    "application/vnd.databricks.v1+cell": {
     "cellMetadata": {
      "byteLimit": 2048000,
      "rowLimit": 10000
     },
     "inputWidgets": {},
     "nuid": "9d36fd76-a74a-480f-8e41-68d68e189117",
     "showTitle": false,
     "tableResultSettingsMap": {},
     "title": ""
    }
   },
   "outputs": [],
   "source": [
    "CREATE OR REPLACE TEMP VIEW distinct_continents AS\n",
    "SELECT \n",
    "  DISTINCT continent_id \n",
    "FROM \n",
    "  twitch.silver.continent"
   ]
  },
  {
   "cell_type": "code",
   "execution_count": 0,
   "metadata": {
    "application/vnd.databricks.v1+cell": {
     "cellMetadata": {
      "byteLimit": 2048000,
      "rowLimit": 10000
     },
     "inputWidgets": {},
     "nuid": "c3d92775-7435-4cdf-aa19-691cc5b790fe",
     "showTitle": false,
     "tableResultSettingsMap": {},
     "title": ""
    }
   },
   "outputs": [],
   "source": [
    "CREATE OR REPLACE TABLE twitch.gold.continent\n",
    "SELECT \n",
    "continent_id,\n",
    "CASE \n",
    "  WHEN continent_id = 'OC' THEN 'Oceania'\n",
    "  WHEN continent_id = 'AS' THEN 'Ásia'\n",
    "  WHEN continent_id = 'AF' THEN 'Áfria'\n",
    "  WHEN continent_id = 'EU' THEN 'Europa'\n",
    "  WHEN continent_id = 'NA' THEN 'América do Norte'\n",
    "  WHEN continent_id = 'SA' THEN 'América do Sul'\n",
    "  WHEN continent_id = 'AN' THEN 'Antártica' \n",
    "  ELSE 'Não informado' \n",
    "END AS continent_name\n",
    "FROM distinct_continents"
   ]
  }
 ],
 "metadata": {
  "application/vnd.databricks.v1+notebook": {
   "computePreferences": null,
   "dashboards": [],
   "environmentMetadata": {
    "base_environment": "",
    "environment_version": "2"
   },
   "inputWidgetPreferences": null,
   "language": "sql",
   "notebookMetadata": {
    "pythonIndentUnit": 4
   },
   "notebookName": "gold_continents",
   "widgets": {}
  },
  "language_info": {
   "name": "sql"
  }
 },
 "nbformat": 4,
 "nbformat_minor": 0
}
