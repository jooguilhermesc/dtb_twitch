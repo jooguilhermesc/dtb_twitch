{
 "cells": [
  {
   "cell_type": "code",
   "execution_count": 0,
   "metadata": {
    "application/vnd.databricks.v1+cell": {
     "cellMetadata": {
      "byteLimit": 2048000,
      "rowLimit": 10000
     },
     "inputWidgets": {},
     "nuid": "a68129b2-b9ad-439d-b14b-fdad730ed4e1",
     "showTitle": true,
     "tableResultSettingsMap": {},
     "title": "Load and Save Currency Data to Bronze Table"
    }
   },
   "outputs": [],
   "source": [
    "df = spark.read.option(\"multiline\", \"true\").json(\"/Volumes/twitch/bronze/landing/currency.json\")\n",
    "df.write.mode(\"overwrite\").saveAsTable(\"twitch.bronze.currency\")"
   ]
  }
 ],
 "metadata": {
  "application/vnd.databricks.v1+notebook": {
   "computePreferences": {
    "hardware": {
     "accelerator": null,
     "gpuPoolId": null,
     "memory": null
    }
   },
   "dashboards": [],
   "environmentMetadata": {
    "base_environment": "",
    "environment_version": "2"
   },
   "inputWidgetPreferences": null,
   "language": "python",
   "notebookMetadata": {
    "pythonIndentUnit": 4
   },
   "notebookName": "bronze_currency",
   "widgets": {}
  },
  "language_info": {
   "name": "python"
  }
 },
 "nbformat": 4,
 "nbformat_minor": 0
}
