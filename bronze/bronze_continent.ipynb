{
 "cells": [
  {
   "cell_type": "code",
   "execution_count": 0,
   "metadata": {
    "application/vnd.databricks.v1+cell": {
     "cellMetadata": {
      "byteLimit": 2048000,
      "rowLimit": 10000
     },
     "inputWidgets": {},
     "nuid": "94c214db-5a5c-4ef1-92b2-2316855803d4",
     "showTitle": true,
     "tableResultSettingsMap": {},
     "title": "Load and Save Continent Data to Bronze Table"
    }
   },
   "outputs": [],
   "source": [
    "df = spark.read.option(\"multiline\", \"true\").json(\"/Volumes/twitch/bronze/landing/continent.json\")\n",
    "df.write.mode(\"overwrite\").saveAsTable(\"twitch.bronze.continent\")"
   ]
  }
 ],
 "metadata": {
  "application/vnd.databricks.v1+notebook": {
   "computePreferences": {
    "hardware": {
     "accelerator": null,
     "gpuPoolId": null,
     "memory": null
    }
   },
   "dashboards": [],
   "environmentMetadata": {
    "base_environment": "",
    "environment_version": "2"
   },
   "inputWidgetPreferences": null,
   "language": "python",
   "notebookMetadata": {
    "pythonIndentUnit": 4
   },
   "notebookName": "bronze_continent",
   "widgets": {}
  },
  "language_info": {
   "name": "python"
  }
 },
 "nbformat": 4,
 "nbformat_minor": 0
}
