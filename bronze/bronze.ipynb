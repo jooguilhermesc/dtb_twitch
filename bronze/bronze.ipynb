{
 "cells": [
  {
   "cell_type": "code",
   "execution_count": 0,
   "metadata": {
    "application/vnd.databricks.v1+cell": {
     "cellMetadata": {},
     "inputWidgets": {},
     "nuid": "48e64978-a690-418e-9f4c-3b49b8e22b86",
     "showTitle": false,
     "tableResultSettingsMap": {},
     "title": ""
    }
   },
   "outputs": [],
   "source": [
    "%sql\n",
    "df = spark.read.option(\"multiline\", \"true\").json(\"/Volumes/twitch/bronze/landing/continent.json\")\n",
    "df.write.mode(\"overwrite\").saveAsTable(\"twitch.bronze.continent\")"
   ]
  },
  {
   "cell_type": "code",
   "execution_count": 0,
   "metadata": {
    "application/vnd.databricks.v1+cell": {
     "cellMetadata": {},
     "inputWidgets": {},
     "nuid": "09e2eb96-6b68-4b29-b1fd-e9fb19322955",
     "showTitle": false,
     "tableResultSettingsMap": {},
     "title": ""
    }
   },
   "outputs": [],
   "source": [
    "%sql\n",
    "df = spark.read.option(\"multiline\", \"true\").json(\"/Volumes/twitch/bronze/landing/currency.json\")\n",
    "df.write.mode(\"overwrite\").saveAsTable(\"twitch.bronze.currency\")"
   ]
  },
  {
   "cell_type": "code",
   "execution_count": 0,
   "metadata": {
    "application/vnd.databricks.v1+cell": {
     "cellMetadata": {},
     "inputWidgets": {},
     "nuid": "ee7af43d-3d3b-4b28-b585-4c274f7700ed",
     "showTitle": false,
     "tableResultSettingsMap": {},
     "title": ""
    }
   },
   "outputs": [],
   "source": [
    "%sql\n",
    "df = spark.read.option(\"multiline\", \"true\").json(\"/Volumes/twitch/bronze/landing/iso3.json\")\n",
    "df.write.mode(\"overwrite\").saveAsTable(\"twitch.bronze.iso3\")"
   ]
  },
  {
   "cell_type": "code",
   "execution_count": 0,
   "metadata": {
    "application/vnd.databricks.v1+cell": {
     "cellMetadata": {},
     "inputWidgets": {},
     "nuid": "e23fc405-3b9e-4028-97bb-af1dd3563e34",
     "showTitle": false,
     "tableResultSettingsMap": {},
     "title": ""
    }
   },
   "outputs": [],
   "source": [
    "%sql\n",
    "df = spark.read.option(\"multiline\", \"true\").json(\"/Volumes/twitch/bronze/landing/names.json\")\n",
    "df.write.mode(\"overwrite\").saveAsTable(\"twitch.bronze.names\")"
   ]
  },
  {
   "cell_type": "code",
   "execution_count": 0,
   "metadata": {
    "application/vnd.databricks.v1+cell": {
     "cellMetadata": {},
     "inputWidgets": {},
     "nuid": "335197a9-82bb-46a3-a307-4594e4e39f03",
     "showTitle": false,
     "tableResultSettingsMap": {},
     "title": ""
    }
   },
   "outputs": [],
   "source": [
    "%sql\n",
    "df = spark.read.option(\"multiline\", \"true\").json(\"/Volumes/twitch/bronze/landing/phone.json\")\n",
    "df.write.mode(\"overwrite\").saveAsTable(\"twitch.bronze.phone\")"
   ]
  }
 ],
 "metadata": {
  "application/vnd.databricks.v1+notebook": {
   "computePreferences": null,
   "dashboards": [],
   "environmentMetadata": {
    "base_environment": "",
    "environment_version": "2"
   },
   "inputWidgetPreferences": null,
   "language": "python",
   "notebookMetadata": {
    "pythonIndentUnit": 4
   },
   "notebookName": "bronze",
   "widgets": {}
  },
  "language_info": {
   "name": "python"
  }
 },
 "nbformat": 4,
 "nbformat_minor": 0
}
