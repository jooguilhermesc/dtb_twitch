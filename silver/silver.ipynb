{
 "cells": [
  {
   "cell_type": "code",
   "execution_count": 0,
   "metadata": {
    "application/vnd.databricks.v1+cell": {
     "cellMetadata": {},
     "inputWidgets": {},
     "nuid": "ee1c39bb-8e1d-45d9-af00-12e39ad54675",
     "showTitle": false,
     "tableResultSettingsMap": {},
     "title": ""
    }
   },
   "outputs": [],
   "source": [
    "import pyspark.pandas as ps\n",
    "from pyspark.sql.functions import lit, col"
   ]
  },
  {
   "cell_type": "code",
   "execution_count": 0,
   "metadata": {
    "application/vnd.databricks.v1+cell": {
     "cellMetadata": {},
     "inputWidgets": {},
     "nuid": "ccd9a049-8ee5-41d4-9e67-76820756811d",
     "showTitle": false,
     "tableResultSettingsMap": {},
     "title": ""
    }
   },
   "outputs": [],
   "source": [
    "df = spark.read.table(\"twitch.bronze.continent\")\n",
    "df_transposed = df.to_pandas_on_spark().T.reset_index().to_spark()\n",
    "df_renamed = df_transposed.withColumnRenamed(\"index\", \"country_id\").withColumnRenamed(\"0\", \"continent_id\")\n",
    "df_renamed.write.mode(\"overwrite\").saveAsTable(\"twitch.silver.continent\")"
   ]
  },
  {
   "cell_type": "code",
   "execution_count": 0,
   "metadata": {
    "application/vnd.databricks.v1+cell": {
     "cellMetadata": {},
     "inputWidgets": {},
     "nuid": "a61a1a91-05e2-43ad-8f5b-4edc65c44356",
     "showTitle": false,
     "tableResultSettingsMap": {},
     "title": ""
    }
   },
   "outputs": [],
   "source": [
    "df = spark.read.table(\"twitch.bronze.currency\")\n",
    "df_transposed = df.to_pandas_on_spark().T.reset_index().to_spark()\n",
    "df_renamed = df_transposed.withColumnRenamed(\"index\", \"country_id\").withColumnRenamed(\"0\", \"currency_name\")\n",
    "df_renamed.write.mode(\"overwrite\").saveAsTable(\"twitch.silver.currency\")"
   ]
  },
  {
   "cell_type": "code",
   "execution_count": 0,
   "metadata": {
    "application/vnd.databricks.v1+cell": {
     "cellMetadata": {},
     "inputWidgets": {},
     "nuid": "6157022b-fdf1-416a-9fee-a92882901fb6",
     "showTitle": false,
     "tableResultSettingsMap": {},
     "title": ""
    }
   },
   "outputs": [],
   "source": [
    "df = spark.read.table(\"twitch.bronze.iso3\")\n",
    "df_transposed = df.to_pandas_on_spark().T.reset_index().to_spark()\n",
    "df_renamed = df_transposed.withColumnRenamed(\"index\", \"country_id\").withColumnRenamed(\"0\", \"iso3_id\")\n",
    "df_renamed.write.mode(\"overwrite\").saveAsTable(\"twitch.silver.iso3\")"
   ]
  },
  {
   "cell_type": "code",
   "execution_count": 0,
   "metadata": {
    "application/vnd.databricks.v1+cell": {
     "cellMetadata": {},
     "inputWidgets": {},
     "nuid": "d24111b3-a828-4ed0-b0b6-992ce5790ab0",
     "showTitle": false,
     "tableResultSettingsMap": {},
     "title": ""
    }
   },
   "outputs": [],
   "source": [
    "df = spark.read.table(\"twitch.bronze.names\")\n",
    "df_transposed = df.to_pandas_on_spark().T.reset_index().to_spark()\n",
    "df_renamed = df_transposed.withColumnRenamed(\"index\", \"country_id\").withColumnRenamed(\"0\", \"country_name\")\n",
    "df_renamed.write.mode(\"overwrite\").saveAsTable(\"twitch.silver.names\")"
   ]
  },
  {
   "cell_type": "code",
   "execution_count": 0,
   "metadata": {
    "application/vnd.databricks.v1+cell": {
     "cellMetadata": {},
     "inputWidgets": {},
     "nuid": "4783da1f-a064-4cfe-8841-ae0b125141fe",
     "showTitle": false,
     "tableResultSettingsMap": {},
     "title": ""
    }
   },
   "outputs": [],
   "source": [
    "df = spark.read.table(\"twitch.bronze.phone\")\n",
    "df_transposed = df.to_pandas_on_spark().T.reset_index().to_spark()\n",
    "df_renamed = df_transposed.withColumnRenamed(\"index\", \"country_id\").withColumnRenamed(\"0\", \"phone_code\")\n",
    "df_renamed.write.mode(\"overwrite\").saveAsTable(\"twitch.silver.phone\")"
   ]
  }
 ],
 "metadata": {
  "application/vnd.databricks.v1+notebook": {
   "computePreferences": null,
   "dashboards": [],
   "environmentMetadata": {
    "base_environment": "",
    "environment_version": "2"
   },
   "inputWidgetPreferences": null,
   "language": "python",
   "notebookMetadata": {
    "pythonIndentUnit": 4
   },
   "notebookName": "silver",
   "widgets": {}
  },
  "language_info": {
   "name": "python"
  }
 },
 "nbformat": 4,
 "nbformat_minor": 0
}
